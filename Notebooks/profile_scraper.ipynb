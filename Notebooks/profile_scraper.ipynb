{
  "cells": [
    {
      "cell_type": "code",
      "execution_count": null,
      "metadata": {
        "id": "_Z3AeBhTrvNK"
      },
      "outputs": [],
      "source": [
        "# !source $linkedin_VENV"
      ]
    },
    {
      "cell_type": "code",
      "execution_count": 1,
      "metadata": {
        "id": "HmCF51a9rvNO"
      },
      "outputs": [],
      "source": [
        "!mkdir documents/\n",
        "!cd documents/"
      ]
    },
    {
      "cell_type": "markdown",
      "metadata": {
        "id": "163_iq26rvNQ"
      },
      "source": [
        "## 1. Installing and importing required modules"
      ]
    },
    {
      "cell_type": "code",
      "execution_count": 2,
      "metadata": {
        "colab": {
          "base_uri": "https://localhost:8080/"
        },
        "id": "Vug-1CFArvNT",
        "outputId": "33bec990-260c-4ade-c343-43bbdd4f6f3b"
      },
      "outputs": [
        {
          "output_type": "stream",
          "name": "stdout",
          "text": [
            "\u001b[2K     \u001b[90m━━━━━━━━━━━━━━━━━━━━━━━━━━━━━━━━━━━━━━━━\u001b[0m \u001b[32m10.0/10.0 MB\u001b[0m \u001b[31m55.9 MB/s\u001b[0m eta \u001b[36m0:00:00\u001b[0m\n",
            "\u001b[2K     \u001b[90m━━━━━━━━━━━━━━━━━━━━━━━━━━━━━━━━━━━━━━━━\u001b[0m \u001b[32m460.2/460.2 kB\u001b[0m \u001b[31m39.9 MB/s\u001b[0m eta \u001b[36m0:00:00\u001b[0m\n",
            "\u001b[2K     \u001b[90m━━━━━━━━━━━━━━━━━━━━━━━━━━━━━━━━━━━━━━━━\u001b[0m \u001b[32m58.3/58.3 kB\u001b[0m \u001b[31m6.8 MB/s\u001b[0m eta \u001b[36m0:00:00\u001b[0m\n",
            "\u001b[?25hReading package lists...\n",
            "Building dependency tree...\n",
            "Reading state information...\n",
            "The following additional packages will be installed:\n",
            "  apparmor chromium-browser libfuse3-3 liblzo2-2 libudev1 snapd squashfs-tools systemd-hwe-hwdb\n",
            "  udev\n",
            "Suggested packages:\n",
            "  apparmor-profiles-extra apparmor-utils fuse3 zenity | kdialog\n",
            "The following NEW packages will be installed:\n",
            "  apparmor chromium-browser chromium-chromedriver libfuse3-3 liblzo2-2 snapd squashfs-tools\n",
            "  systemd-hwe-hwdb udev\n",
            "The following packages will be upgraded:\n",
            "  libudev1\n",
            "1 upgraded, 9 newly installed, 0 to remove and 34 not upgraded.\n",
            "Need to get 26.4 MB of archives.\n",
            "After this operation, 116 MB of additional disk space will be used.\n",
            "Get:1 http://archive.ubuntu.com/ubuntu jammy-updates/main amd64 apparmor amd64 3.0.4-2ubuntu2.3 [595 kB]\n",
            "Get:2 http://archive.ubuntu.com/ubuntu jammy/main amd64 liblzo2-2 amd64 2.10-2build3 [53.7 kB]\n",
            "Get:3 http://archive.ubuntu.com/ubuntu jammy/main amd64 squashfs-tools amd64 1:4.5-3build1 [159 kB]\n",
            "Get:4 http://archive.ubuntu.com/ubuntu jammy-updates/main amd64 libudev1 amd64 249.11-0ubuntu3.12 [78.2 kB]\n",
            "Get:5 http://archive.ubuntu.com/ubuntu jammy-updates/main amd64 udev amd64 249.11-0ubuntu3.12 [1,557 kB]\n",
            "Get:6 http://archive.ubuntu.com/ubuntu jammy/main amd64 libfuse3-3 amd64 3.10.5-1build1 [81.2 kB]\n",
            "Get:7 http://archive.ubuntu.com/ubuntu jammy-updates/main amd64 snapd amd64 2.58+22.04.1 [23.8 MB]\n",
            "Get:8 http://archive.ubuntu.com/ubuntu jammy-updates/universe amd64 chromium-browser amd64 1:85.0.4183.83-0ubuntu2.22.04.1 [49.2 kB]\n",
            "Get:9 http://archive.ubuntu.com/ubuntu jammy-updates/universe amd64 chromium-chromedriver amd64 1:85.0.4183.83-0ubuntu2.22.04.1 [2,308 B]\n",
            "Get:10 http://archive.ubuntu.com/ubuntu jammy-updates/main amd64 systemd-hwe-hwdb all 249.11.5 [3,228 B]\n",
            "Fetched 26.4 MB in 2s (17.2 MB/s)\n",
            "Preconfiguring packages ...\n",
            "Selecting previously unselected package apparmor.\n",
            "(Reading database ... 121749 files and directories currently installed.)\n",
            "Preparing to unpack .../apparmor_3.0.4-2ubuntu2.3_amd64.deb ...\n",
            "Unpacking apparmor (3.0.4-2ubuntu2.3) ...\n",
            "Selecting previously unselected package liblzo2-2:amd64.\n",
            "Preparing to unpack .../liblzo2-2_2.10-2build3_amd64.deb ...\n",
            "Unpacking liblzo2-2:amd64 (2.10-2build3) ...\n",
            "Selecting previously unselected package squashfs-tools.\n",
            "Preparing to unpack .../squashfs-tools_1%3a4.5-3build1_amd64.deb ...\n",
            "Unpacking squashfs-tools (1:4.5-3build1) ...\n",
            "Preparing to unpack .../libudev1_249.11-0ubuntu3.12_amd64.deb ...\n",
            "Unpacking libudev1:amd64 (249.11-0ubuntu3.12) over (249.11-0ubuntu3.10) ...\n",
            "Setting up libudev1:amd64 (249.11-0ubuntu3.12) ...\n",
            "Selecting previously unselected package udev.\n",
            "(Reading database ... 121957 files and directories currently installed.)\n",
            "Preparing to unpack .../udev_249.11-0ubuntu3.12_amd64.deb ...\n",
            "Unpacking udev (249.11-0ubuntu3.12) ...\n",
            "Selecting previously unselected package libfuse3-3:amd64.\n",
            "Preparing to unpack .../libfuse3-3_3.10.5-1build1_amd64.deb ...\n",
            "Unpacking libfuse3-3:amd64 (3.10.5-1build1) ...\n",
            "Selecting previously unselected package snapd.\n",
            "Preparing to unpack .../snapd_2.58+22.04.1_amd64.deb ...\n",
            "Unpacking snapd (2.58+22.04.1) ...\n",
            "Setting up apparmor (3.0.4-2ubuntu2.3) ...\n",
            "Created symlink /etc/systemd/system/sysinit.target.wants/apparmor.service → /lib/systemd/system/apparmor.service.\n",
            "Setting up liblzo2-2:amd64 (2.10-2build3) ...\n",
            "Setting up squashfs-tools (1:4.5-3build1) ...\n",
            "Setting up udev (249.11-0ubuntu3.12) ...\n",
            "invoke-rc.d: could not determine current runlevel\n",
            "invoke-rc.d: policy-rc.d denied execution of start.\n",
            "Setting up libfuse3-3:amd64 (3.10.5-1build1) ...\n",
            "Setting up snapd (2.58+22.04.1) ...\n",
            "Created symlink /etc/systemd/system/multi-user.target.wants/snapd.aa-prompt-listener.service → /lib/systemd/system/snapd.aa-prompt-listener.service.\n",
            "Created symlink /etc/systemd/system/multi-user.target.wants/snapd.apparmor.service → /lib/systemd/system/snapd.apparmor.service.\n",
            "Created symlink /etc/systemd/system/multi-user.target.wants/snapd.autoimport.service → /lib/systemd/system/snapd.autoimport.service.\n",
            "Created symlink /etc/systemd/system/multi-user.target.wants/snapd.core-fixup.service → /lib/systemd/system/snapd.core-fixup.service.\n",
            "Created symlink /etc/systemd/system/multi-user.target.wants/snapd.recovery-chooser-trigger.service → /lib/systemd/system/snapd.recovery-chooser-trigger.service.\n",
            "Created symlink /etc/systemd/system/multi-user.target.wants/snapd.seeded.service → /lib/systemd/system/snapd.seeded.service.\n",
            "Created symlink /etc/systemd/system/cloud-final.service.wants/snapd.seeded.service → /lib/systemd/system/snapd.seeded.service.\n",
            "Unit /lib/systemd/system/snapd.seeded.service is added as a dependency to a non-existent unit cloud-final.service.\n",
            "Created symlink /etc/systemd/system/multi-user.target.wants/snapd.service → /lib/systemd/system/snapd.service.\n",
            "Created symlink /etc/systemd/system/timers.target.wants/snapd.snap-repair.timer → /lib/systemd/system/snapd.snap-repair.timer.\n",
            "Created symlink /etc/systemd/system/sockets.target.wants/snapd.socket → /lib/systemd/system/snapd.socket.\n",
            "Created symlink /etc/systemd/system/final.target.wants/snapd.system-shutdown.service → /lib/systemd/system/snapd.system-shutdown.service.\n",
            "Selecting previously unselected package chromium-browser.\n",
            "(Reading database ... 122190 files and directories currently installed.)\n",
            "Preparing to unpack .../chromium-browser_1%3a85.0.4183.83-0ubuntu2.22.04.1_amd64.deb ...\n",
            "=> Installing the chromium snap\n",
            "==> Checking connectivity with the snap store\n",
            "===> System doesn't have a working snapd, skipping\n",
            "Unpacking chromium-browser (1:85.0.4183.83-0ubuntu2.22.04.1) ...\n",
            "Selecting previously unselected package chromium-chromedriver.\n",
            "Preparing to unpack .../chromium-chromedriver_1%3a85.0.4183.83-0ubuntu2.22.04.1_amd64.deb ...\n",
            "Unpacking chromium-chromedriver (1:85.0.4183.83-0ubuntu2.22.04.1) ...\n",
            "Selecting previously unselected package systemd-hwe-hwdb.\n",
            "Preparing to unpack .../systemd-hwe-hwdb_249.11.5_all.deb ...\n",
            "Unpacking systemd-hwe-hwdb (249.11.5) ...\n",
            "Setting up systemd-hwe-hwdb (249.11.5) ...\n",
            "Setting up chromium-browser (1:85.0.4183.83-0ubuntu2.22.04.1) ...\n",
            "update-alternatives: using /usr/bin/chromium-browser to provide /usr/bin/x-www-browser (x-www-browser) in auto mode\n",
            "update-alternatives: using /usr/bin/chromium-browser to provide /usr/bin/gnome-www-browser (gnome-www-browser) in auto mode\n",
            "Setting up chromium-chromedriver (1:85.0.4183.83-0ubuntu2.22.04.1) ...\n",
            "Processing triggers for udev (249.11-0ubuntu3.12) ...\n",
            "Processing triggers for hicolor-icon-theme (0.17-2) ...\n",
            "Processing triggers for libc-bin (2.35-0ubuntu3.4) ...\n",
            "/sbin/ldconfig.real: /usr/local/lib/libtbbmalloc_proxy.so.2 is not a symbolic link\n",
            "\n",
            "/sbin/ldconfig.real: /usr/local/lib/libtbb.so.12 is not a symbolic link\n",
            "\n",
            "/sbin/ldconfig.real: /usr/local/lib/libtbbbind_2_0.so.3 is not a symbolic link\n",
            "\n",
            "/sbin/ldconfig.real: /usr/local/lib/libtbbmalloc.so.2 is not a symbolic link\n",
            "\n",
            "/sbin/ldconfig.real: /usr/local/lib/libtbbbind.so.3 is not a symbolic link\n",
            "\n",
            "/sbin/ldconfig.real: /usr/local/lib/libtbbbind_2_5.so.3 is not a symbolic link\n",
            "\n",
            "Processing triggers for man-db (2.10.2-1) ...\n",
            "Processing triggers for dbus (1.12.20-2ubuntu4.1) ...\n"
          ]
        }
      ],
      "source": [
        "!pip3 install -qq linkedin_scraper\n",
        "!pip3 install -qq selenium\n",
        "!apt install -yq chromium-chromedriver"
      ]
    },
    {
      "cell_type": "code",
      "execution_count": 3,
      "metadata": {
        "id": "UPJALkvwrvNW"
      },
      "outputs": [],
      "source": [
        "from selenium import webdriver\n",
        "from selenium.webdriver.common.by import By\n",
        "from selenium.webdriver.common.keys import Keys\n",
        "from linkedin_scraper import actions\n",
        "from selenium.webdriver.support.ui import WebDriverWait\n",
        "from selenium.webdriver.support import expected_conditions as EC\n",
        "from time import sleep\n",
        "import os\n",
        "import sys\n",
        "import json"
      ]
    },
    {
      "cell_type": "markdown",
      "metadata": {
        "id": "99oDiTCNrvNZ"
      },
      "source": [
        "## 2. Initial setup for the project"
      ]
    },
    {
      "cell_type": "code",
      "source": [
        "# Setting the path of the chromium webdriver in the system\n",
        "\n",
        "path = \"/lib/chromium-browser/chromedriver\"\n",
        "sys.path.insert(0,path)"
      ],
      "metadata": {
        "id": "UpyICPeAr7l-"
      },
      "execution_count": 4,
      "outputs": []
    },
    {
      "cell_type": "code",
      "source": [
        "# Configuring the options for the chromium webdriver\n",
        "\n",
        "chrome_options = webdriver.ChromeOptions()\n",
        "chrome_options.add_argument('--headless')\n",
        "chrome_options.add_argument('--no-sandbox')\n",
        "chrome_options.add_argument('--disable-dev-shm-usage')"
      ],
      "metadata": {
        "id": "MA6_g0cjr_uE"
      },
      "execution_count": 5,
      "outputs": []
    },
    {
      "cell_type": "code",
      "execution_count": 6,
      "metadata": {
        "id": "dA3fh8wOrvNb"
      },
      "outputs": [],
      "source": [
        "# Starting the webdriver\n",
        "\n",
        "driver = webdriver.Chrome(options = chrome_options)"
      ]
    },
    {
      "cell_type": "code",
      "source": [
        "cookie_val = input(\"Please input the cookie: \")"
      ],
      "metadata": {
        "id": "DazPbx3xE2tM"
      },
      "execution_count": 7,
      "outputs": []
    },
    {
      "cell_type": "code",
      "source": [
        "# Logging into linkedin\n",
        "\n",
        "driver.get(\"https://in.linkedin.com/?src=go-pa&trk=sem-ga_campid.14650114788_asid.151761418307_crid.657403558721_kw.linkedin%20login_d.c_tid.kwd-12704335873_n.g_mt.e_geo.9182462&mcid=6844056167778418689&cid=&gad_source=1&gclid=EAIaIQobChMI6I7N8uPLhAMVh6lmAh34lw7MEAAYASAAEgL2NvD_BwE&gclsrc=aw.ds\")\n",
        "\n",
        "new_cookie = {\n",
        "    \"name\" : \"li_at\",\n",
        "    \"value\" : cookie_val,\n",
        "    \"domain\" : \".linkedin.com\",\n",
        "    \"path\" : \"/\",\n",
        "    \"secure\" : True\n",
        "}\n",
        "\n",
        "driver.add_cookie(new_cookie)\n",
        "\n",
        "driver.refresh()"
      ],
      "metadata": {
        "id": "z076TSejEasn"
      },
      "execution_count": 8,
      "outputs": []
    },
    {
      "cell_type": "code",
      "source": [
        "# driver.current_url"
      ],
      "metadata": {
        "colab": {
          "base_uri": "https://localhost:8080/",
          "height": 35
        },
        "id": "Tv3c6Y4TF2Xw",
        "outputId": "d2f70ffc-d6b1-4ab5-a187-5c797db82a1e"
      },
      "execution_count": 9,
      "outputs": [
        {
          "output_type": "execute_result",
          "data": {
            "text/plain": [
              "'https://in.linkedin.com/feed/?trk=sem-ga_campid.14650114788_asid.151761418307_crid.657403558721_kw.linkedin%20login_d.c_tid.kwd-12704335873_n.g_mt.e_geo.9182462'"
            ],
            "application/vnd.google.colaboratory.intrinsic+json": {
              "type": "string"
            }
          },
          "metadata": {},
          "execution_count": 9
        }
      ]
    },
    {
      "cell_type": "code",
      "execution_count": 10,
      "metadata": {
        "id": "PdsKOphVrvNe"
      },
      "outputs": [],
      "source": [
        "# Example profiles to be scraped\n",
        "\n",
        "manoj_url = \"https://www.linkedin.com/in/mkpentapalli/\"\n",
        "thiru_url = \"https://www.linkedin.com/in/thirumalaraomodepalli/\"\n",
        "jennifer_url = \"https://www.linkedin.com/in/jjcmo/\"\n",
        "satya_url = \"https://www.linkedin.com/in/satyanadella/\"\n",
        "bill_url = \"https://www.linkedin.com/in/williamhgates/\""
      ]
    },
    {
      "cell_type": "code",
      "source": [
        "print(driver.current_url)"
      ],
      "metadata": {
        "colab": {
          "base_uri": "https://localhost:8080/"
        },
        "id": "GGXUtHM-vNwq",
        "outputId": "207efa0e-be54-49fd-f685-cffe0d50501b"
      },
      "execution_count": null,
      "outputs": [
        {
          "output_type": "stream",
          "name": "stdout",
          "text": [
            "https://www.linkedin.com/checkpoint/challenge/AgFWzTkluvr8twAAAY3qw0mstMN4ugB1F0iE0EoAPMZz1FyVqud3Cpww3IWercEVYfCVSav9m__AHrBXmTCjRXy5cTNT5w?ut=1V55KPM5qHEr81\n"
          ]
        }
      ]
    },
    {
      "cell_type": "markdown",
      "metadata": {
        "id": "F0PkzfEErvNg"
      },
      "source": [
        "## 3. Required functions"
      ]
    },
    {
      "cell_type": "markdown",
      "metadata": {
        "id": "Cu0FX2AxrvNi"
      },
      "source": [
        "### 3.1 Functions for generic elements"
      ]
    },
    {
      "cell_type": "code",
      "execution_count": 11,
      "metadata": {
        "id": "fVRQVp0nrvNj"
      },
      "outputs": [],
      "source": [
        "# Type of element taken:\n",
        "\n",
        "element_type_dict = {\n",
        "    0 : \"CSS_SELECTOR\",\n",
        "    1 : \"CLASS_NAME\",\n",
        "    2 : \"ID\",\n",
        "    3 : \"TAG_NAME\",\n",
        "    4 : \"XPATH\"\n",
        "}"
      ]
    },
    {
      "cell_type": "code",
      "execution_count": 12,
      "metadata": {
        "id": "-DZXAKy4rvNk"
      },
      "outputs": [],
      "source": [
        "# getting the child element from the parent element\n",
        "\n",
        "def get_element(parent_element=None, child_element_name=\"\", element_type=1, wait_time=8):\n",
        "    try:\n",
        "        by_attr = getattr(By, element_type_dict[element_type])\n",
        "        child_element = WebDriverWait(parent_element, wait_time).until(EC.presence_of_element_located((by_attr, child_element_name)))\n",
        "        return child_element\n",
        "    except Exception as e:\n",
        "        print(f\"{type(e).__name__} occurred for the child element name {child_element_name}.\")\n",
        "        pass"
      ]
    },
    {
      "cell_type": "code",
      "execution_count": 13,
      "metadata": {
        "id": "ktkwE_ECrvNl"
      },
      "outputs": [],
      "source": [
        "# getting the child elements from the parent element\n",
        "\n",
        "def get_elements(parent_element=None, child_elements_name=\"\", element_type=1, wait_time=8):\n",
        "    try:\n",
        "        by_attr = getattr(By, element_type_dict[element_type])\n",
        "        child_elements = WebDriverWait(parent_element, wait_time).until(EC.presence_of_all_elements_located((by_attr, child_elements_name)))\n",
        "        return child_elements\n",
        "    except Exception as e:\n",
        "        print(f\"{type(e).__name__} occurred for the child element name {child_elements_name}.\")\n",
        "        pass"
      ]
    },
    {
      "cell_type": "code",
      "execution_count": 14,
      "metadata": {
        "id": "KbQBxLXUrvNl"
      },
      "outputs": [],
      "source": [
        "# getting elements from a list of parent elements\n",
        "\n",
        "def get_elements_from_list(parent_list = [], child_element = \"\", element_type = 1, wait_time = 3):\n",
        "    element_list = []\n",
        "    for element in parent_list:\n",
        "        element_list_temp = get_elements(element, child_element, element_type)\n",
        "        content = \"\"\n",
        "        for temp_element in element_list_temp:\n",
        "            content += temp_element.text + \"\\n\"\n",
        "        element_list.append(content)\n",
        "\n",
        "    return element_list"
      ]
    },
    {
      "cell_type": "markdown",
      "metadata": {
        "id": "2hME9UurrvNm"
      },
      "source": [
        "### 3.2 Functions for specific elements:"
      ]
    },
    {
      "cell_type": "code",
      "execution_count": 15,
      "metadata": {
        "id": "SxxmuSDIrvNm"
      },
      "outputs": [],
      "source": [
        "# Name\n",
        "\n",
        "def get_name(parent_element = None) -> str:\n",
        "    name = None\n",
        "    if parent_element:\n",
        "        name_elem = get_element(parent_element, \"h1\", 3)\n",
        "        name = name_elem.text if name_elem else None\n",
        "    return name"
      ]
    },
    {
      "cell_type": "code",
      "execution_count": 16,
      "metadata": {
        "id": "HvdvMPNLrvNm"
      },
      "outputs": [],
      "source": [
        "# Location\n",
        "\n",
        "def get_location(parent_element = None) -> str:\n",
        "    location = None\n",
        "    if parent_element:\n",
        "        location_elem = get_element(parent_element, \".text-body-small.inline.t-black--light.break-words\", 0)\n",
        "        location = location_elem.text if location_elem else None\n",
        "    return location"
      ]
    },
    {
      "cell_type": "code",
      "execution_count": 17,
      "metadata": {
        "id": "tWOvlGI2rvNn"
      },
      "outputs": [],
      "source": [
        "# Intro\n",
        "\n",
        "def get_intro(parent_element = None) -> str:\n",
        "    intro = None\n",
        "    if parent_element:\n",
        "        intro_elem = get_element(parent_element, \".text-body-medium.break-words\", 0)\n",
        "        intro = intro_elem.text if intro_elem else None\n",
        "    return intro"
      ]
    },
    {
      "cell_type": "code",
      "execution_count": 18,
      "metadata": {
        "id": "rKp5NetQrvNn"
      },
      "outputs": [],
      "source": [
        "# Work Preference\n",
        "\n",
        "def get_work_preference(parent_element = None) -> str:\n",
        "    photo_element = get_element(parent_element, \"pv-top-card--photo\", 1)\n",
        "    img_element = get_element(photo_element, \"img\", 3)\n",
        "    work_preference = img_element.get_attribute(\"alt\") if img_element else \"\"\n",
        "    work_preference_text = None\n",
        "    if(\"#OPEN_TO_WORK\" in work_preference):\n",
        "        work_preference_text = \"Open to work\"\n",
        "    elif(\"#HIRING\" in work_preference):\n",
        "        work_preference_text = \"Hiring\"\n",
        "    return work_preference_text"
      ]
    },
    {
      "cell_type": "code",
      "execution_count": 19,
      "metadata": {
        "id": "_j0ujFJ7rvNn"
      },
      "outputs": [],
      "source": [
        "# Contact details\n",
        "\n",
        "def get_contact_details(parent_element = None):\n",
        "    contact_details = None\n",
        "    contact_card = get_element(parent_element, \".pv-profile-section__section-info.section-info\",0)\n",
        "    urls_text_list = get_elements(contact_card,\"h3\",0)\n",
        "    urls_text = []\n",
        "    for text in urls_text_list:\n",
        "        urls_text.append(text.text)\n",
        "    urls_list = get_elements(contact_card,\"a\",0)\n",
        "    urls = []\n",
        "    for url in urls_list:\n",
        "        urls.append(url.get_attribute(\"href\"))\n",
        "    contact_details = dict(zip(urls_text,urls))\n",
        "    return contact_details"
      ]
    },
    {
      "cell_type": "code",
      "execution_count": 20,
      "metadata": {
        "id": "qnYil-kErvNo"
      },
      "outputs": [],
      "source": [
        "# About section\n",
        "\n",
        "def get_about(parent_element = None) -> str:\n",
        "    about = None\n",
        "    if parent_element:\n",
        "        about_element = get_element(parent_element, \".display-flex.ph5.pv3\", 0)\n",
        "        about_element_span = get_element(about_element, \"span\", 3)\n",
        "        about = about_element_span.text if about_element_span else \"\"\n",
        "    return about"
      ]
    },
    {
      "cell_type": "markdown",
      "metadata": {
        "id": "RrLcW-SPrvNo"
      },
      "source": [
        "### 3.3 Caller function"
      ]
    },
    {
      "cell_type": "code",
      "execution_count": 21,
      "metadata": {
        "id": "LCdQYg_yrvNo"
      },
      "outputs": [],
      "source": [
        "def getPersonalDetails(driver = None, profile_url = \"\") -> str:\n",
        "    name = None\n",
        "    location = None\n",
        "    intro = None\n",
        "    work_preference = None\n",
        "    contact = None\n",
        "    about = None\n",
        "    experiences = None\n",
        "    education = None\n",
        "    personal_details = dict()\n",
        "    details = \"\"\n",
        "\n",
        "\n",
        "    driver.get(profile_url)\n",
        "\n",
        "    # Scraping for profile details:\n",
        "\n",
        "    top_card = get_element(driver, \"scaffold-layout__main\")\n",
        "    top_panel = get_element(top_card, \".mt2.relative\", 0)\n",
        "\n",
        "    # Name:\n",
        "    name = get_name(top_panel)\n",
        "    personal_details[\"Name\"] = name\n",
        "\n",
        "    # Location:\n",
        "    location = get_location(top_panel)\n",
        "    personal_details[\"Location\"] = location\n",
        "\n",
        "    # Intro:\n",
        "    intro = get_intro(top_panel)\n",
        "    personal_details[\"Headline\"] = intro\n",
        "\n",
        "    # Work Preference:\n",
        "    work_preference = get_work_preference(top_card)\n",
        "    personal_details[\"Work_Preference\"] = work_preference\n",
        "\n",
        "    # Contact:\n",
        "    profile_contact_url = profile_url + \"/overlay/contact-info/\"\n",
        "    driver.get(profile_contact_url)\n",
        "    contact = get_contact_details(driver)\n",
        "    if contact:\n",
        "        personal_details[\"Contact_Details\"] = contact\n",
        "\n",
        "    # About:\n",
        "    driver.get(profile_url)\n",
        "    top_card = get_element(driver, \"scaffold-layout__main\")\n",
        "    about = get_about(top_card)\n",
        "    if about:\n",
        "        personal_details[\"About\"] = about\n",
        "\n",
        "    # Experiences:\n",
        "    experiences_url = profile_url + \"details/experience/\"\n",
        "    driver.get(experiences_url)\n",
        "    experiences_top_card = get_element(driver, \"scaffold-layout__main\",1)\n",
        "    experiences_list_card = get_elements(experiences_top_card, \".pvs-list__paged-list-item.artdeco-list__item.pvs-list__item--line-separated.pvs-list__item--one-column\", 0)\n",
        "    experiences = get_elements_from_list(experiences_list_card,\"visually-hidden\")\n",
        "    if experiences:\n",
        "        personal_details[\"Experience\"] = \"\"\n",
        "        for item in experiences:\n",
        "            personal_details[\"Experience\"] += item\n",
        "\n",
        "    # Education:\n",
        "    education_url = profile_url + \"details/education/\"\n",
        "    driver.get(education_url)\n",
        "    education_top_card = get_element(driver, \"scaffold-layout__main\")\n",
        "    education_list_card = get_elements(education_top_card,\".pvs-list__paged-list-item.artdeco-list__item.pvs-list__item--line-separated.pvs-list__item--one-column\",0)\n",
        "    education = get_elements_from_list(education_list_card,\"visually-hidden\",1)\n",
        "    if education:\n",
        "        personal_details[\"Education\"] = \"\"\n",
        "        for item in education:\n",
        "            personal_details[\"Education\"] += item\n",
        "\n",
        "    for key in personal_details.keys():\n",
        "        # print(key, \"\\n\\n\\n\", personal_details[key])\n",
        "        details += f\"{key}:\\n\\n{personal_details[key]}\\n\\n\\n\"\n",
        "\n",
        "    return details"
      ]
    },
    {
      "cell_type": "markdown",
      "source": [
        "## 4. Creating text files"
      ],
      "metadata": {
        "id": "cr1eZM5kTNDD"
      }
    },
    {
      "cell_type": "code",
      "execution_count": 22,
      "metadata": {
        "id": "dSm-Rq1orvNp"
      },
      "outputs": [],
      "source": [
        "names = []\n",
        "urls = []\n",
        "\n",
        "# Example urls and names:\n",
        "# \"Kamil Imtiaz\"\n",
        "# \"https://www.linkedin.com/in/kamilimtiaz/\"\n",
        "names = [\"Gautam Kumar\"]\n",
        "urls = [\"https://www.linkedin.com/in/gautam-kumar-16203213b/\"]\n",
        "\n",
        "# names = [\"Manoj Kumar Pentapalli\", \"Thirumala Rao Modepalli\", \"Jennifer Johnson\", \"Satya Nadella\", \"Bill Gates\"]\n",
        "# urls = [manoj_url, thiru_url, jennifer_url, satya_url, bill_url]"
      ]
    },
    {
      "cell_type": "code",
      "execution_count": null,
      "metadata": {
        "id": "HZ-MY7dtrvNp"
      },
      "outputs": [],
      "source": [
        "# # Take input for urls and names:\n",
        "\n",
        "# n = int(input(\"Enter number of profiles to be given: \"))\n",
        "\n",
        "# print(\"Input for profile Names:\\n\")\n",
        "\n",
        "# for i in range(n):\n",
        "#     temp = input()\n",
        "#     names.append(temp)\n",
        "\n",
        "# print(\"Input for urls:\\n\")\n",
        "\n",
        "# for i in range(n):\n",
        "#     temp = input()\n",
        "#     urls.append(temp)"
      ]
    },
    {
      "cell_type": "code",
      "execution_count": 23,
      "metadata": {
        "id": "MDn4LGcbrvNr"
      },
      "outputs": [],
      "source": [
        "for i in range(len(urls)):\n",
        "    personal_details = getPersonalDetails(driver,urls[i])\n",
        "    with open(f\"documents/{names[i]}.txt\",\"w\") as f:\n",
        "        f.write(f\"{personal_details}\")"
      ]
    },
    {
      "cell_type": "code",
      "execution_count": null,
      "metadata": {
        "id": "7WyxTc-frvNr"
      },
      "outputs": [],
      "source": [
        "# driver.quit()"
      ]
    },
    {
      "cell_type": "code",
      "execution_count": null,
      "metadata": {
        "id": "2SkFuRIWrvNr"
      },
      "outputs": [],
      "source": []
    }
  ],
  "metadata": {
    "kernelspec": {
      "display_name": "LI_SCRAPER",
      "language": "python",
      "name": "python3"
    },
    "language_info": {
      "codemirror_mode": {
        "name": "ipython",
        "version": 3
      },
      "file_extension": ".py",
      "mimetype": "text/x-python",
      "name": "python",
      "nbconvert_exporter": "python",
      "pygments_lexer": "ipython3",
      "version": "3.11.6"
    },
    "colab": {
      "provenance": [],
      "collapsed_sections": [
        "163_iq26rvNQ",
        "99oDiTCNrvNZ",
        "F0PkzfEErvNg",
        "Cu0FX2AxrvNi",
        "2hME9UurrvNm",
        "RrLcW-SPrvNo",
        "cr1eZM5kTNDD"
      ]
    }
  },
  "nbformat": 4,
  "nbformat_minor": 0
}