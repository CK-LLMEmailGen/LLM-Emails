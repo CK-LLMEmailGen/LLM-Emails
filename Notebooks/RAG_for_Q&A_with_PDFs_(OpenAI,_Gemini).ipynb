{
  "nbformat": 4,
  "nbformat_minor": 0,
  "metadata": {
    "colab": {
      "provenance": [],
      "collapsed_sections": [
        "11y7uvu50zFQ",
        "RIVvG3vV5vSZ",
        "oPthwZDpFMDn",
        "4xmfoPia6KGM",
        "STPNJFYqvXBR",
        "gV3E63Zqx6F5",
        "eGcTvdnxxYiK",
        "Aw882Sr-K4G8",
        "IzwZIbDbYkuH"
      ],
      "gpuType": "T4"
    },
    "kernelspec": {
      "name": "python3",
      "display_name": "Python 3"
    },
    "language_info": {
      "name": "python"
    },
    "accelerator": "GPU"
  },
  "cells": [
    {
      "cell_type": "markdown",
      "source": [
        "# Using OpenAI"
      ],
      "metadata": {
        "id": "cWT_zPv2Y53_"
      }
    },
    {
      "cell_type": "markdown",
      "source": [
        "## 1. Setup"
      ],
      "metadata": {
        "id": "9iRu7JEn1Kan"
      }
    },
    {
      "cell_type": "markdown",
      "source": [
        "### 1.1 Installing Dependencies"
      ],
      "metadata": {
        "id": "11y7uvu50zFQ"
      }
    },
    {
      "cell_type": "code",
      "source": [
        "!pip install -qq langchain==0.0.137\n",
        "!pip install -qq openai==0.28\n",
        "!pip install -qq tiktoken\n",
        "!pip install -qq faiss-cpu\n",
        "!pip install -qq pypdf"
      ],
      "metadata": {
        "id": "zo1tY2CfEdOF",
        "colab": {
          "base_uri": "https://localhost:8080/"
        },
        "outputId": "ba216da2-b0ff-4a23-dbef-2be9d7b9f730"
      },
      "execution_count": null,
      "outputs": [
        {
          "output_type": "stream",
          "name": "stdout",
          "text": [
            "\u001b[?25l     \u001b[90m━━━━━━━━━━━━━━━━━━━━━━━━━━━━━━━━━━━━━━━━\u001b[0m \u001b[32m0.0/76.5 kB\u001b[0m \u001b[31m?\u001b[0m eta \u001b[36m-:--:--\u001b[0m\r\u001b[2K     \u001b[91m━━━━━━━━━━━━━━━━━━━━━\u001b[0m\u001b[90m╺\u001b[0m\u001b[90m━━━━━━━━━━━━━━━━━━\u001b[0m \u001b[32m41.0/76.5 kB\u001b[0m \u001b[31m1.1 MB/s\u001b[0m eta \u001b[36m0:00:01\u001b[0m\r\u001b[2K     \u001b[90m━━━━━━━━━━━━━━━━━━━━━━━━━━━━━━━━━━━━━━━━\u001b[0m \u001b[32m76.5/76.5 kB\u001b[0m \u001b[31m1.4 MB/s\u001b[0m eta \u001b[36m0:00:00\u001b[0m\n",
            "\u001b[?25h\u001b[31mERROR: pip's dependency resolver does not currently take into account all the packages that are installed. This behaviour is the source of the following dependency conflicts.\n",
            "llmx 0.0.15a0 requires cohere, which is not installed.\u001b[0m\u001b[31m\n",
            "\u001b[0m"
          ]
        }
      ]
    },
    {
      "cell_type": "markdown",
      "source": [
        "### 1.2 Import Libraries"
      ],
      "metadata": {
        "id": "RIVvG3vV5vSZ"
      }
    },
    {
      "cell_type": "code",
      "source": [
        "from langchain.embeddings.openai import OpenAIEmbeddings\n",
        "from langchain.vectorstores import FAISS\n",
        "from langchain.text_splitter import RecursiveCharacterTextSplitter\n",
        "from langchain import OpenAI\n",
        "from langchain.chains import RetrievalQA\n",
        "from langchain.document_loaders import PyPDFLoader\n",
        "from langchain.document_loaders import TextLoader\n",
        "import openai\n",
        "import getpass\n",
        "import os"
      ],
      "metadata": {
        "id": "ILuB2hXD5tBo"
      },
      "execution_count": null,
      "outputs": []
    },
    {
      "cell_type": "code",
      "source": [
        "openAPI_key = getpass.getpass(\"Enter your API Key...\")\n",
        "openai.api_key = openAPI_key"
      ],
      "metadata": {
        "colab": {
          "base_uri": "https://localhost:8080/"
        },
        "id": "2x5prtS_E6ke",
        "outputId": "af9091e9-ef38-40eb-aaf9-d582bc22f24e"
      },
      "execution_count": null,
      "outputs": [
        {
          "name": "stdout",
          "output_type": "stream",
          "text": [
            "Enter your API Key...··········\n"
          ]
        }
      ]
    },
    {
      "cell_type": "markdown",
      "source": [
        "### 1.3 Function for Text wraping"
      ],
      "metadata": {
        "id": "oPthwZDpFMDn"
      }
    },
    {
      "cell_type": "code",
      "source": [
        "!rm -f my_lib.py\n",
        "!wget -qq https://github.com/senseiji/python_tools/raw/main/my_lib.py"
      ],
      "metadata": {
        "id": "TOVUKighE_cS"
      },
      "execution_count": null,
      "outputs": []
    },
    {
      "cell_type": "code",
      "source": [
        "from my_lib import wrap_text"
      ],
      "metadata": {
        "id": "tTys9MAvFDKZ"
      },
      "execution_count": null,
      "outputs": []
    },
    {
      "cell_type": "markdown",
      "source": [
        "## 2. Preparing Data"
      ],
      "metadata": {
        "id": "l73iqRg81dPF"
      }
    },
    {
      "cell_type": "markdown",
      "source": [
        "### 2.1 Getting the Data"
      ],
      "metadata": {
        "id": "4xmfoPia6KGM"
      }
    },
    {
      "cell_type": "code",
      "source": [
        "!wget -qq -O CS.txt https://raw.githubusercontent.com/Meghana-Chebolu/CS/main/CS.txt"
      ],
      "metadata": {
        "id": "YLZQSqmfFgoF"
      },
      "execution_count": null,
      "outputs": []
    },
    {
      "cell_type": "code",
      "source": [
        "!wget -qq -O mondee_Final.txt https://raw.githubusercontent.com/Meghana-Chebolu/CS/main/mondee_final.txt"
      ],
      "metadata": {
        "id": "f1m7rvEq6JwA"
      },
      "execution_count": null,
      "outputs": []
    },
    {
      "cell_type": "code",
      "source": [
        "!wget -qq -O Jennifer.txt https://www.dropbox.com/scl/fi/p5pfm5vbd53s1pqc5n3bt/Jennifer-Johnson-Crowdstrike.txt?rlkey=vfqsbn02kx2vqd2gdqr0cquo7&dl=0"
      ],
      "metadata": {
        "id": "D6IYLvT3FiVc"
      },
      "execution_count": null,
      "outputs": []
    },
    {
      "cell_type": "markdown",
      "source": [
        "### 2.2 Converting Text File to PDF (If Required)"
      ],
      "metadata": {
        "id": "STPNJFYqvXBR"
      }
    },
    {
      "cell_type": "code",
      "source": [
        "!apt-get install -y -qq enscript\n",
        "!apt-get install -y -qq ghostscript"
      ],
      "metadata": {
        "id": "gKj48QFTuR4Y"
      },
      "execution_count": null,
      "outputs": []
    },
    {
      "cell_type": "code",
      "source": [
        "def text2Pdf(text_File):\n",
        "  output_File = f\"{text_File.split('.')[0]}.pdf\"\n",
        "  !enscript -p output.ps $text_File\n",
        "  !ps2pdf output.ps $output_File\n",
        "  !rm output.ps\n",
        "  return output_File\n",
        "\n",
        "text_Files = ['CS.txt', 'mondee_Final.txt', 'Jennifer.txt']\n",
        "for text_File in text_Files:\n",
        "  text2Pdf(text_File)"
      ],
      "metadata": {
        "colab": {
          "base_uri": "https://localhost:8080/"
        },
        "id": "YX3AaEz5qoBH",
        "outputId": "9696c1f3-473b-41bd-90b9-b554b07d146b"
      },
      "execution_count": null,
      "outputs": [
        {
          "output_type": "stream",
          "name": "stdout",
          "text": [
            "[ 4 pages * 1 copy ] left in output.ps\n",
            "49 lines were wrapped\n",
            "6 non-printable characters\n",
            "[ 12 pages * 1 copy ] left in output.ps\n",
            "165 lines were wrapped\n",
            "7 non-printable characters\n",
            "[ 3 pages * 1 copy ] left in output.ps\n",
            "13 lines were wrapped\n",
            "6 non-printable characters\n"
          ]
        }
      ]
    },
    {
      "cell_type": "markdown",
      "source": [
        "### 2.3 PDF processing using Poppler Utils (If Required)"
      ],
      "metadata": {
        "id": "gV3E63Zqx6F5"
      }
    },
    {
      "cell_type": "code",
      "source": [
        "### Install Poppler\n",
        "\n",
        "# !apt-get install -y -qq poppler-utils"
      ],
      "metadata": {
        "id": "2ZJtnoD4s4rz"
      },
      "execution_count": null,
      "outputs": []
    },
    {
      "cell_type": "code",
      "source": [
        "### Getting Text from PDF\n",
        "\n",
        "# !pdftotext input.pdf output.txt"
      ],
      "metadata": {
        "id": "C9ZqzruLRvxN"
      },
      "execution_count": null,
      "outputs": []
    },
    {
      "cell_type": "code",
      "source": [
        "### Merging Two PDFs\n",
        "\n",
        "# !pdfunite input1.pdf input2.pdf output.pdf"
      ],
      "metadata": {
        "id": "JbDM1mN7RzBZ"
      },
      "execution_count": null,
      "outputs": []
    },
    {
      "cell_type": "markdown",
      "source": [
        "### 2.4 Loading the data"
      ],
      "metadata": {
        "id": "eGcTvdnxxYiK"
      }
    },
    {
      "cell_type": "code",
      "source": [
        "def doc_Loader(file_Path):\n",
        "  if file_Path.endswith('.pdf'):\n",
        "    return PyPDFLoader(file_Path).load_and_split()\n",
        "  elif file_Path.endswith('.txt'):\n",
        "    return TextLoader(file_Path).load()"
      ],
      "metadata": {
        "id": "iJ5lgZecAr-o"
      },
      "execution_count": null,
      "outputs": []
    },
    {
      "cell_type": "code",
      "source": [
        "resume_Data = doc_Loader('Aditya_verma.pdf')\n",
        "modules_Data = doc_Loader('modules_Basic_SAP.txt')"
      ],
      "metadata": {
        "id": "8vMccgcICVIa"
      },
      "execution_count": null,
      "outputs": []
    },
    {
      "cell_type": "code",
      "source": [
        "text_splitter = RecursiveCharacterTextSplitter(chunk_size = 10000, chunk_overlap = 100)\n",
        "source_Data = text_splitter.split_text(modules_Data[0].page_content)\n",
        "# target_Data = text_splitter.split_documents(resume_Data)\n",
        "context = \"\\n\\n\".join(str(page.page_content) for page in resume_Data)\n",
        "target_Data = text_splitter.split_text(context)"
      ],
      "metadata": {
        "id": "3TL91arhCjdv"
      },
      "execution_count": null,
      "outputs": []
    },
    {
      "cell_type": "markdown",
      "source": [
        "### 2.5 Storing the Data in Vector Store"
      ],
      "metadata": {
        "id": "CVDDQ_Pn73DD"
      }
    },
    {
      "cell_type": "code",
      "source": [
        "embeddings = OpenAIEmbeddings(openai_api_key = openai.api_key)"
      ],
      "metadata": {
        "id": "7tWAoH0Q72dn"
      },
      "execution_count": null,
      "outputs": []
    },
    {
      "cell_type": "code",
      "source": [
        "vector_Store_Index = FAISS.from_texts(target_Data, embeddings)"
      ],
      "metadata": {
        "id": "-LA2I0mG7u4C"
      },
      "execution_count": null,
      "outputs": []
    },
    {
      "cell_type": "markdown",
      "source": [
        "## 3. Model"
      ],
      "metadata": {
        "id": "C1puUpiT9_yD"
      }
    },
    {
      "cell_type": "code",
      "source": [
        "llm = OpenAI(openai_api_key = openAPI_key)"
      ],
      "metadata": {
        "id": "DQN_LFBwAQpI"
      },
      "execution_count": null,
      "outputs": []
    },
    {
      "cell_type": "code",
      "source": [
        "qa = RetrievalQA.from_chain_type(llm = llm,\n",
        "                                 chain_type = \"stuff\",\n",
        "                                 retriever = vector_Store_Index.as_retriever()\n",
        "                                 )"
      ],
      "metadata": {
        "id": "7v2Sk8rgKozz"
      },
      "execution_count": null,
      "outputs": []
    },
    {
      "cell_type": "markdown",
      "source": [
        "## 4. Q&A"
      ],
      "metadata": {
        "id": "Aw882Sr-K4G8"
      }
    },
    {
      "cell_type": "code",
      "source": [
        "def run_qa(q):\n",
        "    q = q + \" Give bulleted points wherever necessary. Go through all the data provided before answering. Do not repeat the statements\"\n",
        "    response = qa.run(q)\n",
        "    wrap_text(response, numchars = 130)\n",
        "    return response"
      ],
      "metadata": {
        "id": "Amx2LMk8K0HT"
      },
      "execution_count": null,
      "outputs": []
    },
    {
      "cell_type": "code",
      "source": [
        "run_qa(\"list all the sap modules\")"
      ],
      "metadata": {
        "colab": {
          "base_uri": "https://localhost:8080/",
          "height": 105
        },
        "id": "dg5X2-ZWYFnI",
        "outputId": "a5af4e9d-fcf3-405e-c8b2-29b80766cb9c"
      },
      "execution_count": null,
      "outputs": [
        {
          "output_type": "stream",
          "name": "stdout",
          "text": [
            " Aditya Verma has experience with: \n",
            "- SAP ECC 6.0\n",
            "- SAP PP\n",
            "- SAP SD\n"
          ]
        },
        {
          "output_type": "execute_result",
          "data": {
            "text/plain": [
              "' Aditya Verma has experience with: \\n- SAP ECC 6.0\\n- SAP PP\\n- SAP SD'"
            ],
            "application/vnd.google.colaboratory.intrinsic+json": {
              "type": "string"
            }
          },
          "metadata": {},
          "execution_count": 61
        }
      ]
    },
    {
      "cell_type": "code",
      "source": [
        "prompt = \"tell me about all the projects in the document seperately in the following format : \\\n",
        "          Project Title, Role, Project Duration, Project Location, Client, Company at which project is done, and get all the SAP modules mentioned in the project.\\\n",
        "          Do not give contributions or description or bulleted points of work done, just go through those sections and get the SAP modules used\""
      ],
      "metadata": {
        "id": "zrf2JOsle0QD"
      },
      "execution_count": null,
      "outputs": []
    },
    {
      "cell_type": "code",
      "source": [
        "run_qa(prompt)"
      ],
      "metadata": {
        "colab": {
          "base_uri": "https://localhost:8080/",
          "height": 192
        },
        "id": "Qf2SfSkIYinH",
        "outputId": "391ea706-3d24-4338-b3f9-70577285e848"
      },
      "execution_count": null,
      "outputs": [
        {
          "output_type": "stream",
          "name": "stdout",
          "text": [
            " \n",
            "1. Shell SAP Support & Maintenance: Role - ABAP Developer, Duration - Nov 2021 - Current, Project Location - Offshore, TCS Noida,\n",
            "Client - Shell, Company - TCS, SAP Modules used - Classic Reports, ALV Reports, Smart Forms, Transactions, BAPI, BADI,\n",
            "Enhancement, Data Migrations, RFC, SD & MM. \n",
            "2. Shell MECM Administrator: Role - MECM Administrator, Duration - Mar 2020 - Nov 2021, Project Location - Offshore, TCS Noida,\n",
            "Client - Shell, Company - TCS, SAP Modules used - Windows OS, WSUS, MS SQL Server, C# .net, Asp.net and .net Framework.\n"
          ]
        },
        {
          "output_type": "execute_result",
          "data": {
            "text/plain": [
              "' \\n1. Shell SAP Support & Maintenance: Role - ABAP Developer, Duration - Nov 2021 - Current, Project Location - Offshore, TCS Noida, Client - Shell, Company - TCS, SAP Modules used - Classic Reports, ALV Reports, Smart Forms, Transactions, BAPI, BADI, Enhancement, Data Migrations, RFC, SD & MM. \\n2. Shell MECM Administrator: Role - MECM Administrator, Duration - Mar 2020 - Nov 2021, Project Location - Offshore, TCS Noida, Client - Shell, Company - TCS, SAP Modules used - Windows OS, WSUS, MS SQL Server, C# .net, Asp.net and .net Framework.'"
            ],
            "application/vnd.google.colaboratory.intrinsic+json": {
              "type": "string"
            }
          },
          "metadata": {},
          "execution_count": 63
        }
      ]
    },
    {
      "cell_type": "code",
      "source": [
        "# run_qa(\"What is the most important service of crowdstrike?\")"
      ],
      "metadata": {
        "id": "F4sLprcWYoHu"
      },
      "execution_count": null,
      "outputs": []
    },
    {
      "cell_type": "code",
      "source": [
        "# run_qa(\"Give me the education and experience details of jennifer johnson\")"
      ],
      "metadata": {
        "id": "XmCZCaetYshv"
      },
      "execution_count": null,
      "outputs": []
    },
    {
      "cell_type": "markdown",
      "source": [
        "## 5. Data Extraction"
      ],
      "metadata": {
        "id": "-FUU0tkOLuF7"
      }
    },
    {
      "cell_type": "code",
      "source": [
        "import openai\n",
        "\n",
        "# Assuming you've obtained information and answers from the PDFs\n",
        "prompt = f'Use the {source_Data} as the source file for recognizing SAP Modules. \\\n",
        "        In {target_Data} concentrate on the projects data present. You should get the following details from each project in {target_Data} : \\\n",
        "        [Project Title, Role, Project Start Date, Project End Date, Project Location, Client, Company where project is done (call it \"Company\")]\\\n",
        "        Also find all the SAP Modules that are used and mentioned in the given project. Remember that {source_Data} contains the list of SAP Modules. \\\n",
        "        Extract information about each of the projects mentioned in {target_Data} and list them seperately in the above specified list format including \\\n",
        "        the SAP modules used. Return the data in a json format'\n",
        "\n",
        "\n",
        "def extract_SAP_Data(prompt):\n",
        "  response = openai.ChatCompletion.create(\n",
        "      model = \"gpt-3.5-turbo-1106\", temperature = 0,\n",
        "      messages = [\n",
        "          {\n",
        "              \"role\" : \"system\",\n",
        "              \"content\" : prompt\n",
        "          }\n",
        "      ],\n",
        "      max_tokens = 500 # Adjust the desired length of the email generated\n",
        "  )\n",
        "\n",
        "  # Get the generated email text\n",
        "  data_Extracted = response['choices'][0]['message']['content']\n",
        "  return wrap_text(data_Extracted)\n",
        "\n",
        "extract_SAP_Data(prompt)"
      ],
      "metadata": {
        "colab": {
          "base_uri": "https://localhost:8080/"
        },
        "id": "OY-Bo3QuEias",
        "outputId": "c18d5d01-3581-4d4d-fc92-d23c0cacf59f"
      },
      "execution_count": null,
      "outputs": [
        {
          "output_type": "stream",
          "name": "stdout",
          "text": [
            "```json\n",
            "[\n",
            "    {\n",
            "        \"Project Title\": \"SHELL SAP SUPPORT & MAINTENANCE\",\n",
            "        \"Role\": \"ABAP Developer\",\n",
            "        \"Project Start Date\": \"Nov 2021\",\n",
            "        \"Project End Date\": \"Current\",\n",
            "        \"Project Location\": \"Offshore, TCS Noida\",\n",
            "        \"Client\": \"Shell\",\n",
            "        \"Company\": \"TCS\",\n",
            "        \"SAP Modules Used\": [\"SAP ECC 6.0\", \"SAP SD\", \"SAP MM\", \"SAP Smart Forms\", \"SAP BAPI\", \"SAP\n",
            "BADI\", \"SAP Data Migration\"]\n",
            "    },\n",
            "    {\n",
            "        \"Project Title\": \"SHELL MECM ADMINISTRATOR\",\n",
            "        \"Role\": \"MECM Administrator\",\n",
            "        \"Project Start Date\": \"Mar 2020\",\n",
            "        \"Project End Date\": \"Nov 2021\",\n",
            "        \"Project Location\": \"Offshore, TCS Noida\",\n",
            "        \"Client\": \"Shell\",\n",
            "        \"Company\": \"TCS\",\n",
            "        \"SAP Modules Used\": []\n",
            "    }\n",
            "]\n",
            "```\n"
          ]
        }
      ]
    },
    {
      "cell_type": "markdown",
      "source": [
        "# Using Gemini"
      ],
      "metadata": {
        "id": "IzwZIbDbYkuH"
      }
    },
    {
      "cell_type": "markdown",
      "source": [
        "## 1. Setup"
      ],
      "metadata": {
        "id": "q9avIfhtYqjQ"
      }
    },
    {
      "cell_type": "markdown",
      "source": [
        "### 1.1 Install Dependencies"
      ],
      "metadata": {
        "id": "HLS5DTKMZHcU"
      }
    },
    {
      "cell_type": "code",
      "source": [
        "!pip install -q --upgrade google-generativeai langchain-google-genai"
      ],
      "metadata": {
        "id": "xfP5b6Xg3p-M"
      },
      "execution_count": null,
      "outputs": []
    },
    {
      "cell_type": "code",
      "source": [
        "!pip install -U -qq google.generativeai\n",
        "!pip install -qq chromadb\n",
        "!pip install -qq langchain==0.0.137\n",
        "!pip install -qq langchain-google-genai\n",
        "!pip install -qq tiktoken\n",
        "!pip install -qq faiss-cpu\n",
        "!pip install -qq pypdf"
      ],
      "metadata": {
        "id": "QDzJ2CDgZMsH"
      },
      "execution_count": null,
      "outputs": []
    },
    {
      "cell_type": "markdown",
      "source": [
        "### 1.2 Import Libraries"
      ],
      "metadata": {
        "id": "Lh_XWoeZfD-S"
      }
    },
    {
      "cell_type": "code",
      "source": [
        "import google.generativeai as genai\n",
        "# import google.ai.generativelanguage as glm\n",
        "from langchain_google_genai import ChatGoogleGenerativeAI\n",
        "from langchain_google_genai import GoogleGenerativeAIEmbeddings\n",
        "\n",
        "from langchain_core.prompt_values import ChatPromptValue, PromptValue\n",
        "from langchain.document_loaders import PyPDFLoader\n",
        "from langchain.document_loaders import TextLoader\n",
        "from langchain.text_splitter import RecursiveCharacterTextSplitter\n",
        "from langchain.vectorstores import FAISS\n",
        "from langchain.vectorstores import Chroma\n",
        "\n",
        "from langchain.chains import RetrievalQA\n",
        "from langchain import PromptTemplate\n",
        "from langchain.chains.question_answering import load_qa_chain\n",
        "\n",
        "import getpass\n",
        "import os\n",
        "import numpy as np\n",
        "import pandas as pd"
      ],
      "metadata": {
        "id": "QEEbMoAgd2si"
      },
      "execution_count": null,
      "outputs": []
    },
    {
      "cell_type": "markdown",
      "source": [
        "### 1.3 Custom Display and API Key"
      ],
      "metadata": {
        "id": "HAkS9aeHzD-y"
      }
    },
    {
      "cell_type": "code",
      "source": [
        "!rm -f my_lib.py\n",
        "!wget -qq https://github.com/senseiji/python_tools/raw/main/my_lib.py"
      ],
      "metadata": {
        "id": "iJYCVpu-w-_h"
      },
      "execution_count": null,
      "outputs": []
    },
    {
      "cell_type": "code",
      "source": [
        "from my_lib import wrap_text"
      ],
      "metadata": {
        "id": "lxOkvugd_BVG"
      },
      "execution_count": null,
      "outputs": []
    },
    {
      "cell_type": "code",
      "source": [
        "gemini_Api_Key = getpass.getpass(\"Enter Gemini API Key : \")\n",
        "genai.configure(api_key = gemini_Api_Key)"
      ],
      "metadata": {
        "colab": {
          "base_uri": "https://localhost:8080/"
        },
        "id": "WJAjZOfJb84p",
        "outputId": "dc8f8a3b-671c-46d5-c0c1-ae95a6a00316"
      },
      "execution_count": null,
      "outputs": [
        {
          "name": "stdout",
          "output_type": "stream",
          "text": [
            "Enter Gemini API Key : ··········\n"
          ]
        }
      ]
    },
    {
      "cell_type": "code",
      "source": [
        "demo_Basic = genai.GenerativeModel(model_name = 'gemini-pro')\n",
        "wrap_text(demo_Basic.generate_content(\"what are all the available types of SAP modules\").text)"
      ],
      "metadata": {
        "id": "vb3C2Eyxy8eu"
      },
      "execution_count": null,
      "outputs": []
    },
    {
      "cell_type": "markdown",
      "source": [
        "## 2. Preparing Data"
      ],
      "metadata": {
        "id": "Mf3Dm6_UfYEp"
      }
    },
    {
      "cell_type": "markdown",
      "source": [
        "### 2.1 Loading Data"
      ],
      "metadata": {
        "id": "5qRgqa-yfquX"
      }
    },
    {
      "cell_type": "code",
      "source": [
        "def doc_Loader(file_Path):\n",
        "  if file_Path.endswith('.pdf'):\n",
        "    return PyPDFLoader(file_Path).load_and_split()\n",
        "  elif file_Path.endswith('.txt'):\n",
        "    # return PyPDFLoader(text2Pdf(file_Path)).load_and_split()\n",
        "    return TextLoader(file_Path).load_and_split()"
      ],
      "metadata": {
        "id": "fOEw4deYfuzs"
      },
      "execution_count": null,
      "outputs": []
    },
    {
      "cell_type": "code",
      "source": [
        "source_Pages = doc_Loader('modules_Basic_SAP.txt')\n",
        "target_Pages = doc_Loader('Aditya_verma.pdf')"
      ],
      "metadata": {
        "id": "WQfv5IA2fw4t"
      },
      "execution_count": null,
      "outputs": []
    },
    {
      "cell_type": "code",
      "source": [
        "text_splitter = RecursiveCharacterTextSplitter(chunk_size = 10000, chunk_overlap = 100)\n",
        "def text_Chunker(data_Pages, text_splitter):\n",
        "  context = \"\\n\\n\".join(str(page.page_content) for page in data_Pages)\n",
        "  return text_splitter.split_text(context)\n",
        "source_Chunks = text_Chunker(source_Pages, text_splitter)\n",
        "target_Chunks = text_Chunker(target_Pages, text_splitter)"
      ],
      "metadata": {
        "id": "tiYERwZQgCV5"
      },
      "execution_count": null,
      "outputs": []
    },
    {
      "cell_type": "markdown",
      "source": [
        "### 2.2 Creating Vectors"
      ],
      "metadata": {
        "id": "QgyFalhGgrlr"
      }
    },
    {
      "cell_type": "code",
      "source": [
        "embeddings = GoogleGenerativeAIEmbeddings(model=\"models/embedding-001\", google_api_key = gemini_Api_Key)"
      ],
      "metadata": {
        "id": "z53ENkLzcVR3"
      },
      "execution_count": null,
      "outputs": []
    },
    {
      "cell_type": "code",
      "source": [
        "type(embeddings)"
      ],
      "metadata": {
        "colab": {
          "base_uri": "https://localhost:8080/"
        },
        "id": "dyjEIZaOFoVc",
        "outputId": "57fea0ef-c742-4b64-b203-09e3fbb49549"
      },
      "execution_count": null,
      "outputs": [
        {
          "output_type": "execute_result",
          "data": {
            "text/plain": [
              "langchain_google_genai.embeddings.GoogleGenerativeAIEmbeddings"
            ]
          },
          "metadata": {},
          "execution_count": 13
        }
      ]
    },
    {
      "cell_type": "code",
      "source": [
        "vector_Index = FAISS.from_texts(source_Chunks, embeddings).as_retriever(search_kwargs = {\"k\" : 3})"
      ],
      "metadata": {
        "id": "21x-fe5pcYf1"
      },
      "execution_count": null,
      "outputs": []
    },
    {
      "cell_type": "markdown",
      "source": [
        "## 3. Gemini Model and Retrieval Chain"
      ],
      "metadata": {
        "id": "KHW1EKFDCsDo"
      }
    },
    {
      "cell_type": "code",
      "source": [
        "from langchain_google_genai import GoogleGenerativeAI\n",
        "llm = GoogleGenerativeAI(model = \"gemini-pro\", google_api_key = gemini_Api_Key)"
      ],
      "metadata": {
        "id": "jJtt843RNp6f"
      },
      "execution_count": null,
      "outputs": []
    },
    {
      "cell_type": "code",
      "source": [
        "llm"
      ],
      "metadata": {
        "colab": {
          "base_uri": "https://localhost:8080/"
        },
        "id": "u1nlOQeN1FmA",
        "outputId": "ed281748-5c5c-41fc-8eb3-6b218708106c"
      },
      "execution_count": null,
      "outputs": [
        {
          "output_type": "execute_result",
          "data": {
            "text/plain": [
              "GoogleGenerativeAI(client= genai.GenerativeModel(\n",
              "   model_name='models/gemini-pro',\n",
              "   generation_config={}.\n",
              "   safety_settings={}\n",
              "), model='gemini-pro', google_api_key=SecretStr('**********'))"
            ]
          },
          "metadata": {},
          "execution_count": 46
        }
      ]
    },
    {
      "cell_type": "code",
      "source": [
        "result = llm.invoke('give me list of all the available SAP modules without any description')"
      ],
      "metadata": {
        "id": "qNlmzUi90DKa"
      },
      "execution_count": null,
      "outputs": []
    },
    {
      "cell_type": "code",
      "source": [
        "model = ChatGoogleGenerativeAI(model = \"gemini-pro\",\n",
        "                               google_api_key = gemini_Api_Key,\n",
        "                               temperature = 0.1,\n",
        "                               convert_system_message_to_human = True,\n",
        "                               )"
      ],
      "metadata": {
        "id": "2Mc5-AbyC9Wu"
      },
      "execution_count": null,
      "outputs": []
    },
    {
      "cell_type": "code",
      "source": [
        "result = model.invoke(\"Hey tell me about SAP\")"
      ],
      "metadata": {
        "id": "VPhw_MimyN9l"
      },
      "execution_count": null,
      "outputs": []
    },
    {
      "cell_type": "code",
      "source": [
        "qa_chain = load_qa_chain(model, retriever = vector_Index, return_source_documents = True)"
      ],
      "metadata": {
        "colab": {
          "base_uri": "https://localhost:8080/",
          "height": 269
        },
        "id": "Zd-9GVdVg6Vc",
        "outputId": "8aaaaa80-845f-4c3e-8954-422f4aa0e9f1"
      },
      "execution_count": null,
      "outputs": [
        {
          "output_type": "error",
          "ename": "ValidationError",
          "evalue": "ignored",
          "traceback": [
            "\u001b[0;31m---------------------------------------------------------------------------\u001b[0m",
            "\u001b[0;31mValidationError\u001b[0m                           Traceback (most recent call last)",
            "\u001b[0;32m<ipython-input-216-a27373910b0f>\u001b[0m in \u001b[0;36m<cell line: 1>\u001b[0;34m()\u001b[0m\n\u001b[0;32m----> 1\u001b[0;31m \u001b[0mqa_chain\u001b[0m \u001b[0;34m=\u001b[0m \u001b[0mload_qa_chain\u001b[0m\u001b[0;34m(\u001b[0m\u001b[0mmodel\u001b[0m\u001b[0;34m,\u001b[0m \u001b[0mretriever\u001b[0m \u001b[0;34m=\u001b[0m \u001b[0mvector_Index\u001b[0m\u001b[0;34m,\u001b[0m \u001b[0mreturn_source_documents\u001b[0m \u001b[0;34m=\u001b[0m \u001b[0;32mTrue\u001b[0m\u001b[0;34m)\u001b[0m\u001b[0;34m\u001b[0m\u001b[0;34m\u001b[0m\u001b[0m\n\u001b[0m",
            "\u001b[0;32m/usr/local/lib/python3.10/dist-packages/langchain/chains/question_answering/__init__.py\u001b[0m in \u001b[0;36mload_qa_chain\u001b[0;34m(llm, chain_type, verbose, callback_manager, **kwargs)\u001b[0m\n\u001b[1;32m    216\u001b[0m             \u001b[0;34mf\"Should be one of {loader_mapping.keys()}\"\u001b[0m\u001b[0;34m\u001b[0m\u001b[0;34m\u001b[0m\u001b[0m\n\u001b[1;32m    217\u001b[0m         )\n\u001b[0;32m--> 218\u001b[0;31m     return loader_mapping[chain_type](\n\u001b[0m\u001b[1;32m    219\u001b[0m         \u001b[0mllm\u001b[0m\u001b[0;34m,\u001b[0m \u001b[0mverbose\u001b[0m\u001b[0;34m=\u001b[0m\u001b[0mverbose\u001b[0m\u001b[0;34m,\u001b[0m \u001b[0mcallback_manager\u001b[0m\u001b[0;34m=\u001b[0m\u001b[0mcallback_manager\u001b[0m\u001b[0;34m,\u001b[0m \u001b[0;34m**\u001b[0m\u001b[0mkwargs\u001b[0m\u001b[0;34m\u001b[0m\u001b[0;34m\u001b[0m\u001b[0m\n\u001b[1;32m    220\u001b[0m     )\n",
            "\u001b[0;32m/usr/local/lib/python3.10/dist-packages/langchain/chains/question_answering/__init__.py\u001b[0m in \u001b[0;36m_load_stuff_chain\u001b[0;34m(llm, prompt, document_variable_name, verbose, callback_manager, **kwargs)\u001b[0m\n\u001b[1;32m     61\u001b[0m ) -> StuffDocumentsChain:\n\u001b[1;32m     62\u001b[0m     \u001b[0m_prompt\u001b[0m \u001b[0;34m=\u001b[0m \u001b[0mprompt\u001b[0m \u001b[0;32mor\u001b[0m \u001b[0mstuff_prompt\u001b[0m\u001b[0;34m.\u001b[0m\u001b[0mPROMPT_SELECTOR\u001b[0m\u001b[0;34m.\u001b[0m\u001b[0mget_prompt\u001b[0m\u001b[0;34m(\u001b[0m\u001b[0mllm\u001b[0m\u001b[0;34m)\u001b[0m\u001b[0;34m\u001b[0m\u001b[0;34m\u001b[0m\u001b[0m\n\u001b[0;32m---> 63\u001b[0;31m     llm_chain = LLMChain(\n\u001b[0m\u001b[1;32m     64\u001b[0m         \u001b[0mllm\u001b[0m\u001b[0;34m=\u001b[0m\u001b[0mllm\u001b[0m\u001b[0;34m,\u001b[0m \u001b[0mprompt\u001b[0m\u001b[0;34m=\u001b[0m\u001b[0m_prompt\u001b[0m\u001b[0;34m,\u001b[0m \u001b[0mverbose\u001b[0m\u001b[0;34m=\u001b[0m\u001b[0mverbose\u001b[0m\u001b[0;34m,\u001b[0m \u001b[0mcallback_manager\u001b[0m\u001b[0;34m=\u001b[0m\u001b[0mcallback_manager\u001b[0m\u001b[0;34m\u001b[0m\u001b[0;34m\u001b[0m\u001b[0m\n\u001b[1;32m     65\u001b[0m     )\n",
            "\u001b[0;32m/usr/local/lib/python3.10/dist-packages/pydantic/main.cpython-310-x86_64-linux-gnu.so\u001b[0m in \u001b[0;36mpydantic.main.BaseModel.__init__\u001b[0;34m()\u001b[0m\n",
            "\u001b[0;31mValidationError\u001b[0m: 1 validation error for LLMChain\nllm\n  Can't instantiate abstract class BaseLanguageModel with abstract methods agenerate_prompt, generate_prompt (type=type_error)"
          ]
        }
      ]
    },
    {
      "cell_type": "code",
      "source": [],
      "metadata": {
        "id": "hwPBA6vND4EP"
      },
      "execution_count": null,
      "outputs": []
    }
  ]
}